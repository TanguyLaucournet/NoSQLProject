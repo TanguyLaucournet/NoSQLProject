{
 "cells": [
  {
   "cell_type": "code",
   "execution_count": 3,
   "metadata": {},
   "outputs": [],
   "source": [
    "from sqlalchemy import create_engine\n",
    "import pymysql\n",
    "import pandas as pd\n",
    "import json\n",
    "from datetime import datetime\n",
    "import requests\n",
    "url = \"http://localhost:3000/obj/register\"\n",
    "\n",
    "def fill_db():\n",
    "    \n",
    "    with open('jeuDeDonnees_1.log') as file:\n",
    "        for line in file:\n",
    "            json_element = json.loads(line)\n",
    "            body = {\"Id\":json_element[\"id\"],\"Event_type\":json_element[\"event-type\"],\"Date_creation\":json_element[\"occurredOn\"],\"Date_ajout\":str(datetime.now()),\"Version_file\":json_element[\"version\"],\"Graph_id\":json_element[\"graph-id\"],\"Nature\":json_element[\"nature\"],\"Object_name\":json_element[\"object-name\"],\"Object_path\":json_element[\"path\"]}\n",
    "            req = requests.post(url,data = body)"
   ]
  },
  {
   "cell_type": "code",
   "execution_count": 4,
   "metadata": {},
   "outputs": [],
   "source": [
    "#methode pour lancer le remplisage de tt la base, à ajuster avec un conter pour faire la mise à jour toute les x secondes\n",
    "fill_db()"
   ]
  },
  {
   "cell_type": "code",
   "execution_count": 6,
   "metadata": {},
   "outputs": [
    {
     "name": "stdout",
     "output_type": "stream",
     "text": [
      "Empty DataFrame\n",
      "Columns: [Id, Event_type, Date_creation, Date_ajout, Version_file, Graph_id, Nature, Object_name, Object_path]\n",
      "Index: []\n"
     ]
    }
   ],
   "source": []
  },
  {
   "cell_type": "code",
   "execution_count": 9,
   "metadata": {},
   "outputs": [],
   "source": []
  },
  {
   "cell_type": "code",
   "execution_count": 11,
   "metadata": {},
   "outputs": [],
   "source": []
  },
  {
   "cell_type": "code",
   "execution_count": null,
   "metadata": {},
   "outputs": [],
   "source": []
  },
  {
   "cell_type": "code",
   "execution_count": null,
   "metadata": {},
   "outputs": [],
   "source": []
  },
  {
   "cell_type": "code",
   "execution_count": null,
   "metadata": {},
   "outputs": [],
   "source": []
  },
  {
   "cell_type": "code",
   "execution_count": null,
   "metadata": {},
   "outputs": [],
   "source": []
  },
  {
   "cell_type": "code",
   "execution_count": 42,
   "metadata": {},
   "outputs": [],
   "source": [
    "\n",
    "    \n",
    "    "
   ]
  },
  {
   "cell_type": "code",
   "execution_count": null,
   "metadata": {},
   "outputs": [],
   "source": []
  },
  {
   "cell_type": "code",
   "execution_count": null,
   "metadata": {},
   "outputs": [],
   "source": []
  },
  {
   "cell_type": "code",
   "execution_count": 35,
   "metadata": {},
   "outputs": [],
   "source": []
  },
  {
   "cell_type": "code",
   "execution_count": null,
   "metadata": {},
   "outputs": [],
   "source": []
  },
  {
   "cell_type": "code",
   "execution_count": null,
   "metadata": {},
   "outputs": [],
   "source": []
  },
  {
   "cell_type": "code",
   "execution_count": null,
   "metadata": {},
   "outputs": [],
   "source": []
  },
  {
   "cell_type": "code",
   "execution_count": 8,
   "metadata": {},
   "outputs": [],
   "source": [
    "       "
   ]
  },
  {
   "cell_type": "code",
   "execution_count": null,
   "metadata": {},
   "outputs": [],
   "source": []
  },
  {
   "cell_type": "code",
   "execution_count": null,
   "metadata": {},
   "outputs": [],
   "source": []
  },
  {
   "cell_type": "code",
   "execution_count": null,
   "metadata": {},
   "outputs": [],
   "source": []
  },
  {
   "cell_type": "code",
   "execution_count": null,
   "metadata": {},
   "outputs": [],
   "source": []
  },
  {
   "cell_type": "code",
   "execution_count": null,
   "metadata": {},
   "outputs": [],
   "source": []
  },
  {
   "cell_type": "code",
   "execution_count": null,
   "metadata": {},
   "outputs": [],
   "source": []
  },
  {
   "cell_type": "code",
   "execution_count": null,
   "metadata": {},
   "outputs": [],
   "source": []
  },
  {
   "cell_type": "code",
   "execution_count": null,
   "metadata": {},
   "outputs": [],
   "source": []
  },
  {
   "cell_type": "code",
   "execution_count": null,
   "metadata": {},
   "outputs": [],
   "source": []
  },
  {
   "cell_type": "code",
   "execution_count": null,
   "metadata": {},
   "outputs": [],
   "source": []
  },
  {
   "cell_type": "code",
   "execution_count": null,
   "metadata": {},
   "outputs": [],
   "source": []
  },
  {
   "cell_type": "code",
   "execution_count": null,
   "metadata": {},
   "outputs": [],
   "source": []
  },
  {
   "cell_type": "code",
   "execution_count": null,
   "metadata": {},
   "outputs": [],
   "source": []
  },
  {
   "cell_type": "code",
   "execution_count": null,
   "metadata": {},
   "outputs": [],
   "source": []
  },
  {
   "cell_type": "code",
   "execution_count": null,
   "metadata": {},
   "outputs": [],
   "source": []
  },
  {
   "cell_type": "code",
   "execution_count": null,
   "metadata": {},
   "outputs": [],
   "source": []
  },
  {
   "cell_type": "code",
   "execution_count": null,
   "metadata": {},
   "outputs": [],
   "source": []
  },
  {
   "cell_type": "code",
   "execution_count": null,
   "metadata": {},
   "outputs": [],
   "source": []
  },
  {
   "cell_type": "code",
   "execution_count": null,
   "metadata": {},
   "outputs": [],
   "source": []
  },
  {
   "cell_type": "code",
   "execution_count": 7,
   "metadata": {},
   "outputs": [
    {
     "name": "stdout",
     "output_type": "stream",
     "text": [
      "be3b24c2-f01e-4816-945f-567f1ccb6acf\n",
      "ac9d4c43-642e-4520-9878-3414bfb846b5\n",
      "c97b0f44-df42-492c-86ec-75f771d8e7c5\n",
      "ec0479cc-12da-4ae8-9521-e47e1a3b5e59\n",
      "381965c3-f7d1-4024-b7a2-4acecf8df234\n",
      "68fe3057-cb58-4d97-b04e-d21fef629ce0\n",
      "db2316d6-6b30-4c30-8c79-586ca0c06c21\n",
      "83b6b0f5-60e5-4bf7-b13f-77179034eaa8\n",
      "1fab3451-7b52-457d-8881-97457e823ccd\n",
      "b89244a1-e1b2-4ae8-adcb-b6dfa1b3ed7d\n",
      "79b7d833-328e-4473-b2d6-21fb29a4c82f\n",
      "0cfaf2cb-54f9-449b-b2c0-af3459948b98\n",
      "c42a3d37-d87e-4155-aaf8-33d2e41e5576\n",
      "4f3e4388-444c-4695-8886-32abdf62fe8c\n",
      "505ae1cc-a7d3-4037-b35c-206ee0d9a617\n",
      "b163599a-b5de-4f53-8ecc-ae01fe5d66f9\n",
      "5fe2eff7-06b1-4b45-a1d6-cd6742842053\n",
      "2129961e-6183-4b35-ac69-db49805df047\n",
      "6c70b799-959a-4611-a62e-61d9df762e75\n",
      "8d252abe-ad42-4077-805f-0cfee092bf53\n",
      "068c9a57-bc3d-4f4c-8648-7930f155c04d\n",
      "ecf4d9a4-105d-4959-adbc-9d5499fad925\n",
      "dde4fce8-6a78-444c-8ad9-48dce5d99e02\n",
      "4b33c71a-2548-4ce8-8c4c-ed020affddfe\n",
      "76123813-f05d-4fa3-aa3b-41ed88d3d4d7\n",
      "5c76ada1-d48b-4718-823c-592f3d8688a6\n",
      "b2efb22f-770f-4ace-b43f-21a06151ff33\n",
      "39469077-7d1f-4e21-9f95-8ee5e8c48583\n",
      "a19ee712-a140-401e-9d63-11623b5cf9ed\n",
      "8ab792fe-2fad-42cf-bf5a-47500c84fbcd\n",
      "c4f4448d-d710-4904-b64c-66ffe164f059\n",
      "a30e854d-7671-4452-92a9-8501cfff91ca\n",
      "00d0b901-7e7d-4904-9679-89866151e032\n",
      "7a7319b4-1918-4716-bfde-d492c987ba8d\n",
      "517230b0-c3be-4fc9-9b51-162a6e806987\n",
      "25a80539-5c69-4c8d-bab2-3d8f537a56cb\n",
      "1a9deed8-c024-42b0-85bb-4e10f7ef5e04\n",
      "9362c476-2e16-4492-b9b6-dd73f05310e1\n",
      "0da03166-66ae-43e6-9063-e0ffdf7190c8\n",
      "81ca2b5c-a38d-4da6-9b83-d871ea02908b\n",
      "6ce887af-2dec-4e07-976a-8f61abd12790\n",
      "c0602028-6787-4096-9c52-4e0a32882286\n",
      "66af43b2-5bc4-4043-b8e2-7aa248721025\n",
      "27c97c79-92ee-4f6d-8ad2-3eb3cf4eeefb\n",
      "e8e89428-a317-4505-9776-9774ac5564ee\n",
      "c402537a-8541-49b5-afc2-86fc58735cb3\n",
      "0ba9e1c5-254e-447f-b333-e2f89964e221\n",
      "d341928c-c98e-4cf3-ad46-0731611aff97\n",
      "5fce6bd0-b894-4ca1-b8df-d9d369a56110\n",
      "b29901ed-d7c6-46ef-a44f-b0caf6be765d\n",
      "77cf77e7-bcfe-4f17-888a-a8ad8fb8f5ae\n",
      "f7f4be01-9fd2-4d46-8674-04d5b3ea2d64\n",
      "3faf97bf-65af-4bde-a137-1c95e7fc90c3\n",
      "50204260-bee8-42db-b59a-0bb47687b9e6\n",
      "2da5c171-c972-4748-8851-51165360b545\n",
      "e6714f41-519a-4733-8a17-5dab2c63084f\n",
      "af2cd8a1-96e5-45b8-8dbb-e3fb90602f29\n",
      "f4efd0ea-2f75-40fb-9cc7-14920cc79979\n",
      "cad710a5-6e13-4bbe-9504-cc71af8190c3\n",
      "80e25d77-6b18-49ed-bf3e-06e2cd171013\n",
      "a9ceec42-c5e2-491a-aa7c-813081acb599\n",
      "15ada700-5f64-449e-9b1c-c33f8d55be8d\n",
      "9c6ccb4f-225b-4d17-b491-8e44070b6caa\n",
      "3ba6864e-f796-472e-9592-0bedfa8d8e71\n",
      "65bfa9af-027e-4be4-897a-7b12e8d08c81\n",
      "b9ce0933-f213-4239-9d59-df794896cfec\n",
      "2030501a-de98-4763-9ca0-17a035dddae8\n",
      "496644b6-75bb-4b8e-a5ce-fe7b405912a3\n",
      "3c02bed3-e910-4c45-9bf4-622e3c132092\n",
      "2708653f-659b-43cd-a7c9-121a33849482\n",
      "4e694c6e-3108-426c-ad0a-481328bbe849\n",
      "4a15a727-29d4-403b-a844-560f17ff0cf2\n",
      "40745a59-3943-48ff-a01d-338398dedf2b\n",
      "dab8e7e1-c042-4068-89e0-ca5e0884f3b2\n",
      "2a91fbfb-1835-41ec-981c-a3b50e0b83f4\n",
      "f17ca540-3452-403d-9b50-7daa127ebe6e\n",
      "1cd11b81-96f0-43c4-9ec4-bb42e4ea5409\n",
      "d3a420bb-9aab-4db5-943c-54014ab05f8b\n",
      "0b8d5167-7c40-444d-828f-e3a134cd8c16\n",
      "8db49cb8-25f0-4c82-afbf-2c38f3a8f53e\n",
      "06fcf4e7-27a3-4255-9279-d9499ffc2263\n",
      "4dcffccc-4440-46ce-a9fa-fc9787de191c\n",
      "c2316b7b-ca64-48ab-b237-14eb1fdd948b\n",
      "73ee2284-bdde-4d92-98a0-e0b06e8a478d\n",
      "0d47b2fe-e35f-442f-9575-79b3af064557\n",
      "fb66dd63-4449-473c-8065-d932c5e49f92\n",
      "0bd17e89-ec7c-4e76-856c-6af805be4f2e\n",
      "f106e3ff-bd8a-424b-8696-89eeceb09eb6\n",
      "a1d9512c-31f9-4f10-9f0c-2794b260d8c5\n",
      "f194a119-bbfe-425a-aae9-00674cbfe4a2\n",
      "638e875a-0099-448e-aa5a-00eb04c69a77\n",
      "4d2bea45-1854-4796-ac4c-49ec06c7a605\n",
      "ccc81167-a155-4ba6-a7f5-7069f409c0d5\n",
      "f587bbda-87b0-4ff3-b803-5f5160041e3f\n",
      "07ca1c9f-d057-4232-a7b6-1128d102d900\n",
      "4f024e81-2b8a-486c-9a82-1db91c56ab38\n",
      "6984ef4d-a4df-4d9d-942e-beca925af499\n",
      "708dc89a-d04c-4345-ac75-7ddcfd682d16\n",
      "134d4579-0e20-47b7-a582-ced277096819\n",
      "9c303c9f-7f5f-4f76-9066-7ff2e74bfad3\n"
     ]
    }
   ],
   "source": []
  },
  {
   "cell_type": "code",
   "execution_count": null,
   "metadata": {},
   "outputs": [],
   "source": []
  },
  {
   "cell_type": "code",
   "execution_count": null,
   "metadata": {},
   "outputs": [],
   "source": []
  },
  {
   "cell_type": "code",
   "execution_count": null,
   "metadata": {},
   "outputs": [],
   "source": []
  },
  {
   "cell_type": "code",
   "execution_count": null,
   "metadata": {},
   "outputs": [],
   "source": []
  },
  {
   "cell_type": "code",
   "execution_count": null,
   "metadata": {},
   "outputs": [],
   "source": []
  },
  {
   "cell_type": "code",
   "execution_count": null,
   "metadata": {},
   "outputs": [],
   "source": []
  },
  {
   "cell_type": "code",
   "execution_count": null,
   "metadata": {},
   "outputs": [],
   "source": []
  },
  {
   "cell_type": "code",
   "execution_count": null,
   "metadata": {},
   "outputs": [],
   "source": []
  },
  {
   "cell_type": "code",
   "execution_count": null,
   "metadata": {},
   "outputs": [],
   "source": []
  },
  {
   "cell_type": "code",
   "execution_count": null,
   "metadata": {},
   "outputs": [],
   "source": []
  },
  {
   "cell_type": "code",
   "execution_count": null,
   "metadata": {},
   "outputs": [],
   "source": []
  },
  {
   "cell_type": "code",
   "execution_count": null,
   "metadata": {},
   "outputs": [],
   "source": []
  },
  {
   "cell_type": "code",
   "execution_count": null,
   "metadata": {},
   "outputs": [],
   "source": []
  },
  {
   "cell_type": "code",
   "execution_count": null,
   "metadata": {},
   "outputs": [],
   "source": []
  },
  {
   "cell_type": "code",
   "execution_count": null,
   "metadata": {},
   "outputs": [],
   "source": []
  },
  {
   "cell_type": "code",
   "execution_count": null,
   "metadata": {},
   "outputs": [],
   "source": []
  },
  {
   "cell_type": "code",
   "execution_count": null,
   "metadata": {},
   "outputs": [],
   "source": []
  },
  {
   "cell_type": "code",
   "execution_count": null,
   "metadata": {},
   "outputs": [],
   "source": []
  },
  {
   "cell_type": "code",
   "execution_count": null,
   "metadata": {},
   "outputs": [],
   "source": []
  }
 ],
 "metadata": {
  "kernelspec": {
   "display_name": "Python 3",
   "language": "python",
   "name": "python3"
  },
  "language_info": {
   "codemirror_mode": {
    "name": "ipython",
    "version": 3
   },
   "file_extension": ".py",
   "mimetype": "text/x-python",
   "name": "python",
   "nbconvert_exporter": "python",
   "pygments_lexer": "ipython3",
   "version": "3.7.9-final"
  }
 },
 "nbformat": 4,
 "nbformat_minor": 4
}